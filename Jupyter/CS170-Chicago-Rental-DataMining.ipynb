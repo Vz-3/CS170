{
  "nbformat": 4,
  "nbformat_minor": 0,
  "metadata": {
    "colab": {
      "provenance": []
    },
    "kernelspec": {
      "name": "python3",
      "display_name": "Python 3"
    },
    "language_info": {
      "name": "python"
    }
  },
  "cells": [
    {
      "cell_type": "markdown",
      "source": [
        "<h1> Importing Required Packages"
      ],
      "metadata": {
        "id": "YnDSfJYBOE6c"
      }
    },
    {
      "cell_type": "code",
      "execution_count": null,
      "metadata": {
        "id": "HLESTklX7lZZ"
      },
      "outputs": [],
      "source": [
        "import pandas as pd #Basic Data Science stuff\n",
        "import numpy as np #Another basic ds package for faster computations\n",
        "import math #Used to turn floats into integer for specific instances\n",
        "\n",
        "from sklearn.model_selection import train_test_split #Used for training and fitting models\n",
        "from sklearn.metrics import mean_squared_error #Required as specified by the instructions\n",
        "from sklearn.metrics import r2_score #Required as specified by the instructions\n",
        "\n",
        "#Regression for prediction algorithms.\n",
        "from sklearn.linear_model import LinearRegression\n",
        "from sklearn.linear_model import Lasso #linear_model.Lasso"
      ]
    },
    {
      "cell_type": "markdown",
      "source": [
        "<h1> Loading the dataset"
      ],
      "metadata": {
        "id": "bBkQFWv6OO-c"
      }
    },
    {
      "cell_type": "code",
      "source": [
        "url = \"https://raw.githubusercontent.com/ereilly89/chicago-housing-rental-app/master/datasets/listingTrainingData_Header.csv\"\n",
        "#Additonally, you can get the cleansed data set instead of the original file: https://github.com/ereilly89/chicago-housing-rental-app/blob/master/datasets/listing_training_cleaned.csv.\n",
        "#https://github.com/ereilly89/chicago-housing-rental-app/blob/master/datasets/onehotencode.py\n",
        "#Check the url above, as it can be inferred that the actual raw file is listing_training_cleaned.csv.\n",
        "#Ergo, to save time and minimize any pre-processing, we can also do this option.\n",
        "listingDF = pd.read_csv(url)\n",
        "listingDF.head()"
      ],
      "metadata": {
        "colab": {
          "base_uri": "https://localhost:8080/",
          "height": 235
        },
        "id": "G_cEZ93tN6zq",
        "outputId": "f839584a-51d4-4a49-8a50-bfb4a7e061ae"
      },
      "execution_count": null,
      "outputs": [
        {
          "output_type": "execute_result",
          "data": {
            "text/plain": [
              "   price  latitude  longitude  bathrooms  bedrooms  beds  Albany Park  \\\n",
              "0   65.0  41.78790  -87.58780        1.0       1.0   1.0          0.0   \n",
              "1  105.0  41.85495  -87.69696        1.0       3.0   5.0          0.0   \n",
              "2   60.0  41.90289  -87.68182        1.0       3.0   4.0          0.0   \n",
              "3   66.0  41.91769  -87.63788        1.0       1.0   2.0          0.0   \n",
              "4   22.0  41.79612  -87.59261        1.0       1.0   1.0          0.0   \n",
              "\n",
              "   Archer Heights  Armour Square  Ashburn  ...  West Garfield Park  West Lawn  \\\n",
              "0             0.0            0.0      0.0  ...                 0.0        0.0   \n",
              "1             0.0            0.0      0.0  ...                 0.0        0.0   \n",
              "2             0.0            0.0      0.0  ...                 0.0        0.0   \n",
              "3             0.0            0.0      0.0  ...                 0.0        0.0   \n",
              "4             0.0            0.0      0.0  ...                 0.0        0.0   \n",
              "\n",
              "   West Pullman  West Ridge  West Town  Woodlawn  Entire home/apt  Hotel room  \\\n",
              "0           0.0         0.0        0.0       0.0              0.0         0.0   \n",
              "1           0.0         0.0        0.0       0.0              1.0         0.0   \n",
              "2           0.0         0.0        1.0       0.0              1.0         0.0   \n",
              "3           0.0         0.0        0.0       0.0              1.0         0.0   \n",
              "4           0.0         0.0        0.0       0.0              0.0         0.0   \n",
              "\n",
              "   Private room  Shared room  \n",
              "0           1.0          0.0  \n",
              "1           0.0          0.0  \n",
              "2           0.0          0.0  \n",
              "3           0.0          0.0  \n",
              "4           1.0          0.0  \n",
              "\n",
              "[5 rows x 87 columns]"
            ],
            "text/html": [
              "\n",
              "  <div id=\"df-e71803ed-ff66-4ba6-8316-85e5319e8757\">\n",
              "    <div class=\"colab-df-container\">\n",
              "      <div>\n",
              "<style scoped>\n",
              "    .dataframe tbody tr th:only-of-type {\n",
              "        vertical-align: middle;\n",
              "    }\n",
              "\n",
              "    .dataframe tbody tr th {\n",
              "        vertical-align: top;\n",
              "    }\n",
              "\n",
              "    .dataframe thead th {\n",
              "        text-align: right;\n",
              "    }\n",
              "</style>\n",
              "<table border=\"1\" class=\"dataframe\">\n",
              "  <thead>\n",
              "    <tr style=\"text-align: right;\">\n",
              "      <th></th>\n",
              "      <th>price</th>\n",
              "      <th>latitude</th>\n",
              "      <th>longitude</th>\n",
              "      <th>bathrooms</th>\n",
              "      <th>bedrooms</th>\n",
              "      <th>beds</th>\n",
              "      <th>Albany Park</th>\n",
              "      <th>Archer Heights</th>\n",
              "      <th>Armour Square</th>\n",
              "      <th>Ashburn</th>\n",
              "      <th>...</th>\n",
              "      <th>West Garfield Park</th>\n",
              "      <th>West Lawn</th>\n",
              "      <th>West Pullman</th>\n",
              "      <th>West Ridge</th>\n",
              "      <th>West Town</th>\n",
              "      <th>Woodlawn</th>\n",
              "      <th>Entire home/apt</th>\n",
              "      <th>Hotel room</th>\n",
              "      <th>Private room</th>\n",
              "      <th>Shared room</th>\n",
              "    </tr>\n",
              "  </thead>\n",
              "  <tbody>\n",
              "    <tr>\n",
              "      <th>0</th>\n",
              "      <td>65.0</td>\n",
              "      <td>41.78790</td>\n",
              "      <td>-87.58780</td>\n",
              "      <td>1.0</td>\n",
              "      <td>1.0</td>\n",
              "      <td>1.0</td>\n",
              "      <td>0.0</td>\n",
              "      <td>0.0</td>\n",
              "      <td>0.0</td>\n",
              "      <td>0.0</td>\n",
              "      <td>...</td>\n",
              "      <td>0.0</td>\n",
              "      <td>0.0</td>\n",
              "      <td>0.0</td>\n",
              "      <td>0.0</td>\n",
              "      <td>0.0</td>\n",
              "      <td>0.0</td>\n",
              "      <td>0.0</td>\n",
              "      <td>0.0</td>\n",
              "      <td>1.0</td>\n",
              "      <td>0.0</td>\n",
              "    </tr>\n",
              "    <tr>\n",
              "      <th>1</th>\n",
              "      <td>105.0</td>\n",
              "      <td>41.85495</td>\n",
              "      <td>-87.69696</td>\n",
              "      <td>1.0</td>\n",
              "      <td>3.0</td>\n",
              "      <td>5.0</td>\n",
              "      <td>0.0</td>\n",
              "      <td>0.0</td>\n",
              "      <td>0.0</td>\n",
              "      <td>0.0</td>\n",
              "      <td>...</td>\n",
              "      <td>0.0</td>\n",
              "      <td>0.0</td>\n",
              "      <td>0.0</td>\n",
              "      <td>0.0</td>\n",
              "      <td>0.0</td>\n",
              "      <td>0.0</td>\n",
              "      <td>1.0</td>\n",
              "      <td>0.0</td>\n",
              "      <td>0.0</td>\n",
              "      <td>0.0</td>\n",
              "    </tr>\n",
              "    <tr>\n",
              "      <th>2</th>\n",
              "      <td>60.0</td>\n",
              "      <td>41.90289</td>\n",
              "      <td>-87.68182</td>\n",
              "      <td>1.0</td>\n",
              "      <td>3.0</td>\n",
              "      <td>4.0</td>\n",
              "      <td>0.0</td>\n",
              "      <td>0.0</td>\n",
              "      <td>0.0</td>\n",
              "      <td>0.0</td>\n",
              "      <td>...</td>\n",
              "      <td>0.0</td>\n",
              "      <td>0.0</td>\n",
              "      <td>0.0</td>\n",
              "      <td>0.0</td>\n",
              "      <td>1.0</td>\n",
              "      <td>0.0</td>\n",
              "      <td>1.0</td>\n",
              "      <td>0.0</td>\n",
              "      <td>0.0</td>\n",
              "      <td>0.0</td>\n",
              "    </tr>\n",
              "    <tr>\n",
              "      <th>3</th>\n",
              "      <td>66.0</td>\n",
              "      <td>41.91769</td>\n",
              "      <td>-87.63788</td>\n",
              "      <td>1.0</td>\n",
              "      <td>1.0</td>\n",
              "      <td>2.0</td>\n",
              "      <td>0.0</td>\n",
              "      <td>0.0</td>\n",
              "      <td>0.0</td>\n",
              "      <td>0.0</td>\n",
              "      <td>...</td>\n",
              "      <td>0.0</td>\n",
              "      <td>0.0</td>\n",
              "      <td>0.0</td>\n",
              "      <td>0.0</td>\n",
              "      <td>0.0</td>\n",
              "      <td>0.0</td>\n",
              "      <td>1.0</td>\n",
              "      <td>0.0</td>\n",
              "      <td>0.0</td>\n",
              "      <td>0.0</td>\n",
              "    </tr>\n",
              "    <tr>\n",
              "      <th>4</th>\n",
              "      <td>22.0</td>\n",
              "      <td>41.79612</td>\n",
              "      <td>-87.59261</td>\n",
              "      <td>1.0</td>\n",
              "      <td>1.0</td>\n",
              "      <td>1.0</td>\n",
              "      <td>0.0</td>\n",
              "      <td>0.0</td>\n",
              "      <td>0.0</td>\n",
              "      <td>0.0</td>\n",
              "      <td>...</td>\n",
              "      <td>0.0</td>\n",
              "      <td>0.0</td>\n",
              "      <td>0.0</td>\n",
              "      <td>0.0</td>\n",
              "      <td>0.0</td>\n",
              "      <td>0.0</td>\n",
              "      <td>0.0</td>\n",
              "      <td>0.0</td>\n",
              "      <td>1.0</td>\n",
              "      <td>0.0</td>\n",
              "    </tr>\n",
              "  </tbody>\n",
              "</table>\n",
              "<p>5 rows × 87 columns</p>\n",
              "</div>\n",
              "      <button class=\"colab-df-convert\" onclick=\"convertToInteractive('df-e71803ed-ff66-4ba6-8316-85e5319e8757')\"\n",
              "              title=\"Convert this dataframe to an interactive table.\"\n",
              "              style=\"display:none;\">\n",
              "        \n",
              "  <svg xmlns=\"http://www.w3.org/2000/svg\" height=\"24px\"viewBox=\"0 0 24 24\"\n",
              "       width=\"24px\">\n",
              "    <path d=\"M0 0h24v24H0V0z\" fill=\"none\"/>\n",
              "    <path d=\"M18.56 5.44l.94 2.06.94-2.06 2.06-.94-2.06-.94-.94-2.06-.94 2.06-2.06.94zm-11 1L8.5 8.5l.94-2.06 2.06-.94-2.06-.94L8.5 2.5l-.94 2.06-2.06.94zm10 10l.94 2.06.94-2.06 2.06-.94-2.06-.94-.94-2.06-.94 2.06-2.06.94z\"/><path d=\"M17.41 7.96l-1.37-1.37c-.4-.4-.92-.59-1.43-.59-.52 0-1.04.2-1.43.59L10.3 9.45l-7.72 7.72c-.78.78-.78 2.05 0 2.83L4 21.41c.39.39.9.59 1.41.59.51 0 1.02-.2 1.41-.59l7.78-7.78 2.81-2.81c.8-.78.8-2.07 0-2.86zM5.41 20L4 18.59l7.72-7.72 1.47 1.35L5.41 20z\"/>\n",
              "  </svg>\n",
              "      </button>\n",
              "      \n",
              "  <style>\n",
              "    .colab-df-container {\n",
              "      display:flex;\n",
              "      flex-wrap:wrap;\n",
              "      gap: 12px;\n",
              "    }\n",
              "\n",
              "    .colab-df-convert {\n",
              "      background-color: #E8F0FE;\n",
              "      border: none;\n",
              "      border-radius: 50%;\n",
              "      cursor: pointer;\n",
              "      display: none;\n",
              "      fill: #1967D2;\n",
              "      height: 32px;\n",
              "      padding: 0 0 0 0;\n",
              "      width: 32px;\n",
              "    }\n",
              "\n",
              "    .colab-df-convert:hover {\n",
              "      background-color: #E2EBFA;\n",
              "      box-shadow: 0px 1px 2px rgba(60, 64, 67, 0.3), 0px 1px 3px 1px rgba(60, 64, 67, 0.15);\n",
              "      fill: #174EA6;\n",
              "    }\n",
              "\n",
              "    [theme=dark] .colab-df-convert {\n",
              "      background-color: #3B4455;\n",
              "      fill: #D2E3FC;\n",
              "    }\n",
              "\n",
              "    [theme=dark] .colab-df-convert:hover {\n",
              "      background-color: #434B5C;\n",
              "      box-shadow: 0px 1px 3px 1px rgba(0, 0, 0, 0.15);\n",
              "      filter: drop-shadow(0px 1px 2px rgba(0, 0, 0, 0.3));\n",
              "      fill: #FFFFFF;\n",
              "    }\n",
              "  </style>\n",
              "\n",
              "      <script>\n",
              "        const buttonEl =\n",
              "          document.querySelector('#df-e71803ed-ff66-4ba6-8316-85e5319e8757 button.colab-df-convert');\n",
              "        buttonEl.style.display =\n",
              "          google.colab.kernel.accessAllowed ? 'block' : 'none';\n",
              "\n",
              "        async function convertToInteractive(key) {\n",
              "          const element = document.querySelector('#df-e71803ed-ff66-4ba6-8316-85e5319e8757');\n",
              "          const dataTable =\n",
              "            await google.colab.kernel.invokeFunction('convertToInteractive',\n",
              "                                                     [key], {});\n",
              "          if (!dataTable) return;\n",
              "\n",
              "          const docLinkHtml = 'Like what you see? Visit the ' +\n",
              "            '<a target=\"_blank\" href=https://colab.research.google.com/notebooks/data_table.ipynb>data table notebook</a>'\n",
              "            + ' to learn more about interactive tables.';\n",
              "          element.innerHTML = '';\n",
              "          dataTable['output_type'] = 'display_data';\n",
              "          await google.colab.output.renderOutput(dataTable, element);\n",
              "          const docLink = document.createElement('div');\n",
              "          docLink.innerHTML = docLinkHtml;\n",
              "          element.appendChild(docLink);\n",
              "        }\n",
              "      </script>\n",
              "    </div>\n",
              "  </div>\n",
              "  "
            ]
          },
          "metadata": {},
          "execution_count": 168
        }
      ]
    },
    {
      "cell_type": "markdown",
      "source": [
        "<h1> Exploring the dataset and Preprocessing data"
      ],
      "metadata": {
        "id": "wQFKAWxPbfUO"
      }
    },
    {
      "cell_type": "markdown",
      "source": [
        "Now, let's proceed to gather some basic information through the use of shape, describe, value_counts, isnull, and etc."
      ],
      "metadata": {
        "id": "AebsagfGamJk"
      }
    },
    {
      "cell_type": "code",
      "source": [
        "listingDF.shape\n",
        "#That's a lot of columns, and it's not really relevant so as we move forward, we should remove most of them in my opinion."
      ],
      "metadata": {
        "colab": {
          "base_uri": "https://localhost:8080/"
        },
        "id": "RDAE9ivzndIC",
        "outputId": "019f42ac-cd0f-4370-adbb-d96606859ee3"
      },
      "execution_count": null,
      "outputs": [
        {
          "output_type": "execute_result",
          "data": {
            "text/plain": [
              "(6295, 87)"
            ]
          },
          "metadata": {},
          "execution_count": 169
        }
      ]
    },
    {
      "cell_type": "code",
      "source": [
        "listingDF.describe()\n",
        "#In here, we get the count, mean, standard deviation, minimum, and maximum of each of the columns to see if there's anything worthwhile looking into."
      ],
      "metadata": {
        "colab": {
          "base_uri": "https://localhost:8080/",
          "height": 408
        },
        "id": "4sBVY-1eaeZd",
        "outputId": "0989798a-7688-440e-fd74-d8f32be38ae4"
      },
      "execution_count": null,
      "outputs": [
        {
          "output_type": "execute_result",
          "data": {
            "text/plain": [
              "              price     latitude    longitude    bathrooms     bedrooms  \\\n",
              "count   6295.000000  6295.000000  6295.000000  6295.000000  6295.000000   \n",
              "mean     152.447339    41.898480   -87.663560     1.379697     1.758251   \n",
              "std      371.639943     0.058681     0.042821     0.914902     1.186112   \n",
              "min        0.000000    41.651560   -87.934340     0.000000     1.000000   \n",
              "25%       63.000000    41.871925   -87.687160     1.000000     1.000000   \n",
              "50%       99.000000    41.900640   -87.659690     1.000000     1.758251   \n",
              "75%      155.000000    41.939175   -87.632710     2.000000     2.000000   \n",
              "max    10000.000000    42.022590   -87.525180    42.000000    50.000000   \n",
              "\n",
              "              beds  Albany Park  Archer Heights  Armour Square      Ashburn  \\\n",
              "count  6295.000000  6295.000000     6295.000000    6295.000000  6295.000000   \n",
              "mean      2.143177     0.010326        0.000794       0.011755     0.001747   \n",
              "std       1.823913     0.101097        0.028174       0.107792     0.041769   \n",
              "min       0.000000     0.000000        0.000000       0.000000     0.000000   \n",
              "25%       1.000000     0.000000        0.000000       0.000000     0.000000   \n",
              "50%       2.000000     0.000000        0.000000       0.000000     0.000000   \n",
              "75%       3.000000     0.000000        0.000000       0.000000     0.000000   \n",
              "max      50.000000     1.000000        1.000000       1.000000     1.000000   \n",
              "\n",
              "       ...  West Garfield Park    West Lawn  West Pullman   West Ridge  \\\n",
              "count  ...         6295.000000  6295.000000   6295.000000  6295.000000   \n",
              "mean   ...            0.002859     0.001589      0.000159     0.011597   \n",
              "std    ...            0.053401     0.039828      0.012604     0.107069   \n",
              "min    ...            0.000000     0.000000      0.000000     0.000000   \n",
              "25%    ...            0.000000     0.000000      0.000000     0.000000   \n",
              "50%    ...            0.000000     0.000000      0.000000     0.000000   \n",
              "75%    ...            0.000000     0.000000      0.000000     0.000000   \n",
              "max    ...            1.000000     1.000000      1.000000     1.000000   \n",
              "\n",
              "         West Town     Woodlawn  Entire home/apt   Hotel room  Private room  \\\n",
              "count  6295.000000  6295.000000      6295.000000  6295.000000   6295.000000   \n",
              "mean      0.110882     0.014138         0.688324     0.011755      0.285306   \n",
              "std       0.314010     0.118070         0.463215     0.107792      0.451596   \n",
              "min       0.000000     0.000000         0.000000     0.000000      0.000000   \n",
              "25%       0.000000     0.000000         0.000000     0.000000      0.000000   \n",
              "50%       0.000000     0.000000         1.000000     0.000000      0.000000   \n",
              "75%       0.000000     0.000000         1.000000     0.000000      1.000000   \n",
              "max       1.000000     1.000000         1.000000     1.000000      1.000000   \n",
              "\n",
              "       Shared room  \n",
              "count  6295.000000  \n",
              "mean      0.014615  \n",
              "std       0.120014  \n",
              "min       0.000000  \n",
              "25%       0.000000  \n",
              "50%       0.000000  \n",
              "75%       0.000000  \n",
              "max       1.000000  \n",
              "\n",
              "[8 rows x 87 columns]"
            ],
            "text/html": [
              "\n",
              "  <div id=\"df-a641474e-a858-462a-8076-3aeaa2ddf795\">\n",
              "    <div class=\"colab-df-container\">\n",
              "      <div>\n",
              "<style scoped>\n",
              "    .dataframe tbody tr th:only-of-type {\n",
              "        vertical-align: middle;\n",
              "    }\n",
              "\n",
              "    .dataframe tbody tr th {\n",
              "        vertical-align: top;\n",
              "    }\n",
              "\n",
              "    .dataframe thead th {\n",
              "        text-align: right;\n",
              "    }\n",
              "</style>\n",
              "<table border=\"1\" class=\"dataframe\">\n",
              "  <thead>\n",
              "    <tr style=\"text-align: right;\">\n",
              "      <th></th>\n",
              "      <th>price</th>\n",
              "      <th>latitude</th>\n",
              "      <th>longitude</th>\n",
              "      <th>bathrooms</th>\n",
              "      <th>bedrooms</th>\n",
              "      <th>beds</th>\n",
              "      <th>Albany Park</th>\n",
              "      <th>Archer Heights</th>\n",
              "      <th>Armour Square</th>\n",
              "      <th>Ashburn</th>\n",
              "      <th>...</th>\n",
              "      <th>West Garfield Park</th>\n",
              "      <th>West Lawn</th>\n",
              "      <th>West Pullman</th>\n",
              "      <th>West Ridge</th>\n",
              "      <th>West Town</th>\n",
              "      <th>Woodlawn</th>\n",
              "      <th>Entire home/apt</th>\n",
              "      <th>Hotel room</th>\n",
              "      <th>Private room</th>\n",
              "      <th>Shared room</th>\n",
              "    </tr>\n",
              "  </thead>\n",
              "  <tbody>\n",
              "    <tr>\n",
              "      <th>count</th>\n",
              "      <td>6295.000000</td>\n",
              "      <td>6295.000000</td>\n",
              "      <td>6295.000000</td>\n",
              "      <td>6295.000000</td>\n",
              "      <td>6295.000000</td>\n",
              "      <td>6295.000000</td>\n",
              "      <td>6295.000000</td>\n",
              "      <td>6295.000000</td>\n",
              "      <td>6295.000000</td>\n",
              "      <td>6295.000000</td>\n",
              "      <td>...</td>\n",
              "      <td>6295.000000</td>\n",
              "      <td>6295.000000</td>\n",
              "      <td>6295.000000</td>\n",
              "      <td>6295.000000</td>\n",
              "      <td>6295.000000</td>\n",
              "      <td>6295.000000</td>\n",
              "      <td>6295.000000</td>\n",
              "      <td>6295.000000</td>\n",
              "      <td>6295.000000</td>\n",
              "      <td>6295.000000</td>\n",
              "    </tr>\n",
              "    <tr>\n",
              "      <th>mean</th>\n",
              "      <td>152.447339</td>\n",
              "      <td>41.898480</td>\n",
              "      <td>-87.663560</td>\n",
              "      <td>1.379697</td>\n",
              "      <td>1.758251</td>\n",
              "      <td>2.143177</td>\n",
              "      <td>0.010326</td>\n",
              "      <td>0.000794</td>\n",
              "      <td>0.011755</td>\n",
              "      <td>0.001747</td>\n",
              "      <td>...</td>\n",
              "      <td>0.002859</td>\n",
              "      <td>0.001589</td>\n",
              "      <td>0.000159</td>\n",
              "      <td>0.011597</td>\n",
              "      <td>0.110882</td>\n",
              "      <td>0.014138</td>\n",
              "      <td>0.688324</td>\n",
              "      <td>0.011755</td>\n",
              "      <td>0.285306</td>\n",
              "      <td>0.014615</td>\n",
              "    </tr>\n",
              "    <tr>\n",
              "      <th>std</th>\n",
              "      <td>371.639943</td>\n",
              "      <td>0.058681</td>\n",
              "      <td>0.042821</td>\n",
              "      <td>0.914902</td>\n",
              "      <td>1.186112</td>\n",
              "      <td>1.823913</td>\n",
              "      <td>0.101097</td>\n",
              "      <td>0.028174</td>\n",
              "      <td>0.107792</td>\n",
              "      <td>0.041769</td>\n",
              "      <td>...</td>\n",
              "      <td>0.053401</td>\n",
              "      <td>0.039828</td>\n",
              "      <td>0.012604</td>\n",
              "      <td>0.107069</td>\n",
              "      <td>0.314010</td>\n",
              "      <td>0.118070</td>\n",
              "      <td>0.463215</td>\n",
              "      <td>0.107792</td>\n",
              "      <td>0.451596</td>\n",
              "      <td>0.120014</td>\n",
              "    </tr>\n",
              "    <tr>\n",
              "      <th>min</th>\n",
              "      <td>0.000000</td>\n",
              "      <td>41.651560</td>\n",
              "      <td>-87.934340</td>\n",
              "      <td>0.000000</td>\n",
              "      <td>1.000000</td>\n",
              "      <td>0.000000</td>\n",
              "      <td>0.000000</td>\n",
              "      <td>0.000000</td>\n",
              "      <td>0.000000</td>\n",
              "      <td>0.000000</td>\n",
              "      <td>...</td>\n",
              "      <td>0.000000</td>\n",
              "      <td>0.000000</td>\n",
              "      <td>0.000000</td>\n",
              "      <td>0.000000</td>\n",
              "      <td>0.000000</td>\n",
              "      <td>0.000000</td>\n",
              "      <td>0.000000</td>\n",
              "      <td>0.000000</td>\n",
              "      <td>0.000000</td>\n",
              "      <td>0.000000</td>\n",
              "    </tr>\n",
              "    <tr>\n",
              "      <th>25%</th>\n",
              "      <td>63.000000</td>\n",
              "      <td>41.871925</td>\n",
              "      <td>-87.687160</td>\n",
              "      <td>1.000000</td>\n",
              "      <td>1.000000</td>\n",
              "      <td>1.000000</td>\n",
              "      <td>0.000000</td>\n",
              "      <td>0.000000</td>\n",
              "      <td>0.000000</td>\n",
              "      <td>0.000000</td>\n",
              "      <td>...</td>\n",
              "      <td>0.000000</td>\n",
              "      <td>0.000000</td>\n",
              "      <td>0.000000</td>\n",
              "      <td>0.000000</td>\n",
              "      <td>0.000000</td>\n",
              "      <td>0.000000</td>\n",
              "      <td>0.000000</td>\n",
              "      <td>0.000000</td>\n",
              "      <td>0.000000</td>\n",
              "      <td>0.000000</td>\n",
              "    </tr>\n",
              "    <tr>\n",
              "      <th>50%</th>\n",
              "      <td>99.000000</td>\n",
              "      <td>41.900640</td>\n",
              "      <td>-87.659690</td>\n",
              "      <td>1.000000</td>\n",
              "      <td>1.758251</td>\n",
              "      <td>2.000000</td>\n",
              "      <td>0.000000</td>\n",
              "      <td>0.000000</td>\n",
              "      <td>0.000000</td>\n",
              "      <td>0.000000</td>\n",
              "      <td>...</td>\n",
              "      <td>0.000000</td>\n",
              "      <td>0.000000</td>\n",
              "      <td>0.000000</td>\n",
              "      <td>0.000000</td>\n",
              "      <td>0.000000</td>\n",
              "      <td>0.000000</td>\n",
              "      <td>1.000000</td>\n",
              "      <td>0.000000</td>\n",
              "      <td>0.000000</td>\n",
              "      <td>0.000000</td>\n",
              "    </tr>\n",
              "    <tr>\n",
              "      <th>75%</th>\n",
              "      <td>155.000000</td>\n",
              "      <td>41.939175</td>\n",
              "      <td>-87.632710</td>\n",
              "      <td>2.000000</td>\n",
              "      <td>2.000000</td>\n",
              "      <td>3.000000</td>\n",
              "      <td>0.000000</td>\n",
              "      <td>0.000000</td>\n",
              "      <td>0.000000</td>\n",
              "      <td>0.000000</td>\n",
              "      <td>...</td>\n",
              "      <td>0.000000</td>\n",
              "      <td>0.000000</td>\n",
              "      <td>0.000000</td>\n",
              "      <td>0.000000</td>\n",
              "      <td>0.000000</td>\n",
              "      <td>0.000000</td>\n",
              "      <td>1.000000</td>\n",
              "      <td>0.000000</td>\n",
              "      <td>1.000000</td>\n",
              "      <td>0.000000</td>\n",
              "    </tr>\n",
              "    <tr>\n",
              "      <th>max</th>\n",
              "      <td>10000.000000</td>\n",
              "      <td>42.022590</td>\n",
              "      <td>-87.525180</td>\n",
              "      <td>42.000000</td>\n",
              "      <td>50.000000</td>\n",
              "      <td>50.000000</td>\n",
              "      <td>1.000000</td>\n",
              "      <td>1.000000</td>\n",
              "      <td>1.000000</td>\n",
              "      <td>1.000000</td>\n",
              "      <td>...</td>\n",
              "      <td>1.000000</td>\n",
              "      <td>1.000000</td>\n",
              "      <td>1.000000</td>\n",
              "      <td>1.000000</td>\n",
              "      <td>1.000000</td>\n",
              "      <td>1.000000</td>\n",
              "      <td>1.000000</td>\n",
              "      <td>1.000000</td>\n",
              "      <td>1.000000</td>\n",
              "      <td>1.000000</td>\n",
              "    </tr>\n",
              "  </tbody>\n",
              "</table>\n",
              "<p>8 rows × 87 columns</p>\n",
              "</div>\n",
              "      <button class=\"colab-df-convert\" onclick=\"convertToInteractive('df-a641474e-a858-462a-8076-3aeaa2ddf795')\"\n",
              "              title=\"Convert this dataframe to an interactive table.\"\n",
              "              style=\"display:none;\">\n",
              "        \n",
              "  <svg xmlns=\"http://www.w3.org/2000/svg\" height=\"24px\"viewBox=\"0 0 24 24\"\n",
              "       width=\"24px\">\n",
              "    <path d=\"M0 0h24v24H0V0z\" fill=\"none\"/>\n",
              "    <path d=\"M18.56 5.44l.94 2.06.94-2.06 2.06-.94-2.06-.94-.94-2.06-.94 2.06-2.06.94zm-11 1L8.5 8.5l.94-2.06 2.06-.94-2.06-.94L8.5 2.5l-.94 2.06-2.06.94zm10 10l.94 2.06.94-2.06 2.06-.94-2.06-.94-.94-2.06-.94 2.06-2.06.94z\"/><path d=\"M17.41 7.96l-1.37-1.37c-.4-.4-.92-.59-1.43-.59-.52 0-1.04.2-1.43.59L10.3 9.45l-7.72 7.72c-.78.78-.78 2.05 0 2.83L4 21.41c.39.39.9.59 1.41.59.51 0 1.02-.2 1.41-.59l7.78-7.78 2.81-2.81c.8-.78.8-2.07 0-2.86zM5.41 20L4 18.59l7.72-7.72 1.47 1.35L5.41 20z\"/>\n",
              "  </svg>\n",
              "      </button>\n",
              "      \n",
              "  <style>\n",
              "    .colab-df-container {\n",
              "      display:flex;\n",
              "      flex-wrap:wrap;\n",
              "      gap: 12px;\n",
              "    }\n",
              "\n",
              "    .colab-df-convert {\n",
              "      background-color: #E8F0FE;\n",
              "      border: none;\n",
              "      border-radius: 50%;\n",
              "      cursor: pointer;\n",
              "      display: none;\n",
              "      fill: #1967D2;\n",
              "      height: 32px;\n",
              "      padding: 0 0 0 0;\n",
              "      width: 32px;\n",
              "    }\n",
              "\n",
              "    .colab-df-convert:hover {\n",
              "      background-color: #E2EBFA;\n",
              "      box-shadow: 0px 1px 2px rgba(60, 64, 67, 0.3), 0px 1px 3px 1px rgba(60, 64, 67, 0.15);\n",
              "      fill: #174EA6;\n",
              "    }\n",
              "\n",
              "    [theme=dark] .colab-df-convert {\n",
              "      background-color: #3B4455;\n",
              "      fill: #D2E3FC;\n",
              "    }\n",
              "\n",
              "    [theme=dark] .colab-df-convert:hover {\n",
              "      background-color: #434B5C;\n",
              "      box-shadow: 0px 1px 3px 1px rgba(0, 0, 0, 0.15);\n",
              "      filter: drop-shadow(0px 1px 2px rgba(0, 0, 0, 0.3));\n",
              "      fill: #FFFFFF;\n",
              "    }\n",
              "  </style>\n",
              "\n",
              "      <script>\n",
              "        const buttonEl =\n",
              "          document.querySelector('#df-a641474e-a858-462a-8076-3aeaa2ddf795 button.colab-df-convert');\n",
              "        buttonEl.style.display =\n",
              "          google.colab.kernel.accessAllowed ? 'block' : 'none';\n",
              "\n",
              "        async function convertToInteractive(key) {\n",
              "          const element = document.querySelector('#df-a641474e-a858-462a-8076-3aeaa2ddf795');\n",
              "          const dataTable =\n",
              "            await google.colab.kernel.invokeFunction('convertToInteractive',\n",
              "                                                     [key], {});\n",
              "          if (!dataTable) return;\n",
              "\n",
              "          const docLinkHtml = 'Like what you see? Visit the ' +\n",
              "            '<a target=\"_blank\" href=https://colab.research.google.com/notebooks/data_table.ipynb>data table notebook</a>'\n",
              "            + ' to learn more about interactive tables.';\n",
              "          element.innerHTML = '';\n",
              "          dataTable['output_type'] = 'display_data';\n",
              "          await google.colab.output.renderOutput(dataTable, element);\n",
              "          const docLink = document.createElement('div');\n",
              "          docLink.innerHTML = docLinkHtml;\n",
              "          element.appendChild(docLink);\n",
              "        }\n",
              "      </script>\n",
              "    </div>\n",
              "  </div>\n",
              "  "
            ]
          },
          "metadata": {},
          "execution_count": 170
        }
      ]
    },
    {
      "cell_type": "code",
      "source": [
        "listingDF.isnull().sum()\n",
        "#We check if there's any missing values so that we have to either remove those rows or impute them.\n",
        "#Fortunately, looks like there is no missing data."
      ],
      "metadata": {
        "colab": {
          "base_uri": "https://localhost:8080/"
        },
        "id": "G_kKg4qknqOm",
        "outputId": "f5d85c1e-fecf-474f-bdc3-e79b5d5045a1"
      },
      "execution_count": null,
      "outputs": [
        {
          "output_type": "execute_result",
          "data": {
            "text/plain": [
              "price              0\n",
              "latitude           0\n",
              "longitude          0\n",
              "bathrooms          0\n",
              "bedrooms           0\n",
              "                  ..\n",
              "Woodlawn           0\n",
              "Entire home/apt    0\n",
              "Hotel room         0\n",
              "Private room       0\n",
              "Shared room        0\n",
              "Length: 87, dtype: int64"
            ]
          },
          "metadata": {},
          "execution_count": 171
        }
      ]
    },
    {
      "cell_type": "code",
      "source": [
        "#Now, we proceed with checking the dataset if it has any outliers. There are two common methods used to detect outliers, one is using the interquartile range, and the other is based on z-score.\n",
        "#As such, I'll apply both of them and make judgements.\n",
        "\n",
        "def outlierIQR(data):\n",
        "    Q1 = np.percentile(data, 25)\n",
        "    Q3 = np.percentile(data, 75)\n",
        "\n",
        "    IQR = Q3 - Q1\n",
        "\n",
        "    lowerBound = Q1 * 1.5 * IQR\n",
        "    upperBound = Q3 * 1.5 * IQR\n",
        "\n",
        "    outliers = [val for val in data if val > upperBound or val < lowerBound]\n",
        "    return outliers\n",
        "\n",
        "def outlierZScore(data, threshold=3):\n",
        "    mean = np.mean(data)\n",
        "    std = np.std(data)\n",
        "    z_scores = [(value - mean) / std for value in data]\n",
        "\n",
        "    outliers = [data[i] for i, z_score in enumerate(z_scores) if abs(z_score) > threshold]\n",
        "\n",
        "    return outliers"
      ],
      "metadata": {
        "id": "KD4lAuHqo7xb"
      },
      "execution_count": null,
      "outputs": []
    },
    {
      "cell_type": "code",
      "source": [
        "#The only variable we can test if there's any outlier or not is the price column\n",
        "outPrice = outlierIQR(listingDF['price'])\n",
        "print(f'IQR Outlier Results: {len(outPrice)}') #Yeah this is not right.\n",
        "\n",
        "outPrice2 = outlierZScore(listingDF['price'])\n",
        "print(f'Z-Score Outlier Results: {len(outPrice2)}')\n",
        "#With this, we can say that there are 28 outliers. Rather than imputing the values, i think it's best to simply remove the rows of outliers to save some time.\n",
        "print(f'Outliers: {outPrice2}')"
      ],
      "metadata": {
        "colab": {
          "base_uri": "https://localhost:8080/"
        },
        "id": "gMGkmDHaq-1a",
        "outputId": "d607f9a9-c8ce-411f-f656-3674a037d220"
      },
      "execution_count": null,
      "outputs": [
        {
          "output_type": "stream",
          "name": "stdout",
          "text": [
            "IQR Outlier Results: 6288\n",
            "Z-Score Outlier Results: 28\n",
            "Outliers: [1576.0, 10000.0, 1999.0, 1400.0, 9999.0, 3429.0, 9999.0, 3000.0, 1500.0, 3690.0, 2141.0, 2450.0, 2000.0, 1486.0, 1921.0, 2253.0, 1500.0, 2200.0, 9000.0, 9999.0, 9999.0, 9999.0, 3500.0, 1499.0, 1499.0, 1556.0, 3070.0, 1500.0]\n"
          ]
        }
      ]
    },
    {
      "cell_type": "code",
      "source": [
        "print(\"Before: \\n\",listingDF['price'].value_counts())\n",
        "print(listingDF['price'].shape)\n",
        "removedOutlierDF = listingDF[listingDF.price.isin(outPrice2)==False]\n",
        "print(\"After: \\n\", removedOutlierDF['price'].value_counts())\n",
        "print(removedOutlierDF['price'].shape)\n",
        "\n",
        "#Sure enough, 6295 (Total rows) - 28 (Outliers) = 6267.\n",
        "#Looking at the data manually (Although I did just sorted it in asc. and desc. manner, we can see that there's one final outlier, the price of 0 should not exist!Ergo I'll be dropping that too)\n",
        "removedOutlierDF = removedOutlierDF[listingDF.price!=0]\n",
        "print(\"After(2): \\n\", removedOutlierDF['price'].value_counts())\n",
        "print(removedOutlierDF['price'].shape)"
      ],
      "metadata": {
        "colab": {
          "base_uri": "https://localhost:8080/"
        },
        "id": "DkBsEdOWuF67",
        "outputId": "a7ffe438-4560-40ba-a348-78382796d081"
      },
      "execution_count": null,
      "outputs": [
        {
          "output_type": "stream",
          "name": "stdout",
          "text": [
            "Before: \n",
            " 75.0      140\n",
            "50.0      140\n",
            "100.0     116\n",
            "80.0      116\n",
            "150.0     114\n",
            "         ... \n",
            "1086.0      1\n",
            "1034.0      1\n",
            "1999.0      1\n",
            "464.0       1\n",
            "306.0       1\n",
            "Name: price, Length: 492, dtype: int64\n",
            "(6295,)\n",
            "After: \n",
            " 75.0     140\n",
            "50.0     140\n",
            "80.0     116\n",
            "100.0    116\n",
            "150.0    114\n",
            "        ... \n",
            "372.0      1\n",
            "383.0      1\n",
            "468.0      1\n",
            "254.0      1\n",
            "306.0      1\n",
            "Name: price, Length: 471, dtype: int64\n",
            "(6267,)\n",
            "After(2): \n",
            " 75.0     140\n",
            "50.0     140\n",
            "80.0     116\n",
            "100.0    116\n",
            "150.0    114\n",
            "        ... \n",
            "372.0      1\n",
            "383.0      1\n",
            "468.0      1\n",
            "254.0      1\n",
            "306.0      1\n",
            "Name: price, Length: 470, dtype: int64\n",
            "(6266,)\n"
          ]
        },
        {
          "output_type": "stream",
          "name": "stderr",
          "text": [
            "<ipython-input-174-96c743aa3723>:9: UserWarning: Boolean Series key will be reindexed to match DataFrame index.\n",
            "  removedOutlierDF = removedOutlierDF[listingDF.price!=0]\n"
          ]
        }
      ]
    },
    {
      "cell_type": "code",
      "source": [
        "#Now, let's proceed with dropping all irrelevant columns. Most of the columns in this dataset is specific locations/areas/neighborhood that has a boolean value, along with the columns of Entire home/apt, Hotel room, Private room, and Shared room.\n",
        "#As such, the columns we should keep are the 4 aforementioned room types, price, bathroom, beds, and bedrooms. Additionally, we have to preprocess the data of bathroom, beds, and bedrooms as some of them are in float which is questionable. As such, we'll\n",
        "#use Math.floor() or something close to round them down.\n",
        "tempDF = removedOutlierDF[['price','bathrooms','bedrooms','beds','Entire home/apt', 'Hotel room', 'Private room', 'Shared room']]\n",
        "print(tempDF.head(14))\n",
        "\n",
        "convertingHeaders = ['bathrooms', 'bedrooms', 'beds']\n",
        "\n",
        "\n",
        "for col in convertingHeaders:\n",
        "    tempDF.loc[:, col] = tempDF.loc[:, col].apply(math.floor)\n",
        "\n",
        "print(tempDF.head(14))\n",
        "\n",
        "cleansedDF = tempDF"
      ],
      "metadata": {
        "colab": {
          "base_uri": "https://localhost:8080/"
        },
        "id": "qAWNRfHsxTUy",
        "outputId": "3b61b2ac-ea5b-4c7e-de3d-291603a4bc07"
      },
      "execution_count": null,
      "outputs": [
        {
          "output_type": "stream",
          "name": "stdout",
          "text": [
            "    price  bathrooms  bedrooms  beds  Entire home/apt  Hotel room  \\\n",
            "0    65.0        1.0       1.0   1.0              0.0         0.0   \n",
            "1   105.0        1.0       3.0   5.0              1.0         0.0   \n",
            "2    60.0        1.0       3.0   4.0              1.0         0.0   \n",
            "3    66.0        1.0       1.0   2.0              1.0         0.0   \n",
            "4    22.0        1.0       1.0   1.0              0.0         0.0   \n",
            "5   115.0        1.0       2.0   2.0              1.0         0.0   \n",
            "6   289.0        1.0       1.0   2.0              0.0         0.0   \n",
            "7    99.0        2.0       2.0   2.0              1.0         0.0   \n",
            "8   113.0        1.0       1.0   1.0              1.0         0.0   \n",
            "9    94.0        1.0       2.0   0.0              1.0         0.0   \n",
            "10   97.0        2.0       3.0   3.0              1.0         0.0   \n",
            "11   77.0        1.5       1.0   1.0              0.0         0.0   \n",
            "12   75.0        1.0       1.0   1.0              0.0         0.0   \n",
            "13   65.0        1.0       1.0   1.0              0.0         0.0   \n",
            "\n",
            "    Private room  Shared room  \n",
            "0            1.0          0.0  \n",
            "1            0.0          0.0  \n",
            "2            0.0          0.0  \n",
            "3            0.0          0.0  \n",
            "4            1.0          0.0  \n",
            "5            0.0          0.0  \n",
            "6            1.0          0.0  \n",
            "7            0.0          0.0  \n",
            "8            0.0          0.0  \n",
            "9            0.0          0.0  \n",
            "10           0.0          0.0  \n",
            "11           1.0          0.0  \n",
            "12           1.0          0.0  \n",
            "13           1.0          0.0  \n",
            "    price  bathrooms  bedrooms  beds  Entire home/apt  Hotel room  \\\n",
            "0    65.0          1         1     1              0.0         0.0   \n",
            "1   105.0          1         3     5              1.0         0.0   \n",
            "2    60.0          1         3     4              1.0         0.0   \n",
            "3    66.0          1         1     2              1.0         0.0   \n",
            "4    22.0          1         1     1              0.0         0.0   \n",
            "5   115.0          1         2     2              1.0         0.0   \n",
            "6   289.0          1         1     2              0.0         0.0   \n",
            "7    99.0          2         2     2              1.0         0.0   \n",
            "8   113.0          1         1     1              1.0         0.0   \n",
            "9    94.0          1         2     0              1.0         0.0   \n",
            "10   97.0          2         3     3              1.0         0.0   \n",
            "11   77.0          1         1     1              0.0         0.0   \n",
            "12   75.0          1         1     1              0.0         0.0   \n",
            "13   65.0          1         1     1              0.0         0.0   \n",
            "\n",
            "    Private room  Shared room  \n",
            "0            1.0          0.0  \n",
            "1            0.0          0.0  \n",
            "2            0.0          0.0  \n",
            "3            0.0          0.0  \n",
            "4            1.0          0.0  \n",
            "5            0.0          0.0  \n",
            "6            1.0          0.0  \n",
            "7            0.0          0.0  \n",
            "8            0.0          0.0  \n",
            "9            0.0          0.0  \n",
            "10           0.0          0.0  \n",
            "11           1.0          0.0  \n",
            "12           1.0          0.0  \n",
            "13           1.0          0.0  \n"
          ]
        },
        {
          "output_type": "stream",
          "name": "stderr",
          "text": [
            "<ipython-input-175-8f6bde0f3e93>:11: SettingWithCopyWarning: \n",
            "A value is trying to be set on a copy of a slice from a DataFrame.\n",
            "Try using .loc[row_indexer,col_indexer] = value instead\n",
            "\n",
            "See the caveats in the documentation: https://pandas.pydata.org/pandas-docs/stable/user_guide/indexing.html#returning-a-view-versus-a-copy\n",
            "  tempDF.loc[:, col] = tempDF.loc[:, col].apply(math.floor)\n",
            "<ipython-input-175-8f6bde0f3e93>:11: DeprecationWarning: In a future version, `df.iloc[:, i] = newvals` will attempt to set the values inplace instead of always setting a new array. To retain the old behavior, use either `df[df.columns[i]] = newvals` or, if columns are non-unique, `df.isetitem(i, newvals)`\n",
            "  tempDF.loc[:, col] = tempDF.loc[:, col].apply(math.floor)\n"
          ]
        }
      ]
    },
    {
      "cell_type": "code",
      "source": [
        "#We're finally ready with our dataset. Taking a final look at our headers, we can't do classification (even if we could turn the 4 room types into 1 column as the price, bathroom, beds, and bedrooms are not sufficient information to classify which room type)\n",
        "#Therefore, we will be using prediction algorithms to use the inputs of bathrooms, bedrooms, beds, the 4 room types to determine the price.\n",
        "X = cleansedDF.drop('price', axis=1)\n",
        "y = cleansedDF['price']\n",
        "X_train, X_test, y_train, y_test = train_test_split(X, y, test_size=0.3, random_state=42)"
      ],
      "metadata": {
        "id": "xAUzPjGo3xLp"
      },
      "execution_count": null,
      "outputs": []
    },
    {
      "cell_type": "markdown",
      "source": [
        "<h1> Building the Model"
      ],
      "metadata": {
        "id": "CtjrqKjaOy6M"
      }
    },
    {
      "cell_type": "code",
      "source": [
        "#Using LinearRegression\n",
        "lrModel = LinearRegression()\n",
        "\n",
        "#Using Lasso\n",
        "lassoModel = Lasso()"
      ],
      "metadata": {
        "id": "pOQwHotMN9Mb"
      },
      "execution_count": null,
      "outputs": []
    },
    {
      "cell_type": "code",
      "source": [
        "lrModel.fit(X_train, y_train)"
      ],
      "metadata": {
        "colab": {
          "base_uri": "https://localhost:8080/",
          "height": 75
        },
        "id": "sLpp0pU-6_Xt",
        "outputId": "34081f68-7ece-454f-d9a3-c4e761cd79a3"
      },
      "execution_count": null,
      "outputs": [
        {
          "output_type": "execute_result",
          "data": {
            "text/plain": [
              "LinearRegression()"
            ],
            "text/html": [
              "<style>#sk-container-id-9 {color: black;background-color: white;}#sk-container-id-9 pre{padding: 0;}#sk-container-id-9 div.sk-toggleable {background-color: white;}#sk-container-id-9 label.sk-toggleable__label {cursor: pointer;display: block;width: 100%;margin-bottom: 0;padding: 0.3em;box-sizing: border-box;text-align: center;}#sk-container-id-9 label.sk-toggleable__label-arrow:before {content: \"▸\";float: left;margin-right: 0.25em;color: #696969;}#sk-container-id-9 label.sk-toggleable__label-arrow:hover:before {color: black;}#sk-container-id-9 div.sk-estimator:hover label.sk-toggleable__label-arrow:before {color: black;}#sk-container-id-9 div.sk-toggleable__content {max-height: 0;max-width: 0;overflow: hidden;text-align: left;background-color: #f0f8ff;}#sk-container-id-9 div.sk-toggleable__content pre {margin: 0.2em;color: black;border-radius: 0.25em;background-color: #f0f8ff;}#sk-container-id-9 input.sk-toggleable__control:checked~div.sk-toggleable__content {max-height: 200px;max-width: 100%;overflow: auto;}#sk-container-id-9 input.sk-toggleable__control:checked~label.sk-toggleable__label-arrow:before {content: \"▾\";}#sk-container-id-9 div.sk-estimator input.sk-toggleable__control:checked~label.sk-toggleable__label {background-color: #d4ebff;}#sk-container-id-9 div.sk-label input.sk-toggleable__control:checked~label.sk-toggleable__label {background-color: #d4ebff;}#sk-container-id-9 input.sk-hidden--visually {border: 0;clip: rect(1px 1px 1px 1px);clip: rect(1px, 1px, 1px, 1px);height: 1px;margin: -1px;overflow: hidden;padding: 0;position: absolute;width: 1px;}#sk-container-id-9 div.sk-estimator {font-family: monospace;background-color: #f0f8ff;border: 1px dotted black;border-radius: 0.25em;box-sizing: border-box;margin-bottom: 0.5em;}#sk-container-id-9 div.sk-estimator:hover {background-color: #d4ebff;}#sk-container-id-9 div.sk-parallel-item::after {content: \"\";width: 100%;border-bottom: 1px solid gray;flex-grow: 1;}#sk-container-id-9 div.sk-label:hover label.sk-toggleable__label {background-color: #d4ebff;}#sk-container-id-9 div.sk-serial::before {content: \"\";position: absolute;border-left: 1px solid gray;box-sizing: border-box;top: 0;bottom: 0;left: 50%;z-index: 0;}#sk-container-id-9 div.sk-serial {display: flex;flex-direction: column;align-items: center;background-color: white;padding-right: 0.2em;padding-left: 0.2em;position: relative;}#sk-container-id-9 div.sk-item {position: relative;z-index: 1;}#sk-container-id-9 div.sk-parallel {display: flex;align-items: stretch;justify-content: center;background-color: white;position: relative;}#sk-container-id-9 div.sk-item::before, #sk-container-id-9 div.sk-parallel-item::before {content: \"\";position: absolute;border-left: 1px solid gray;box-sizing: border-box;top: 0;bottom: 0;left: 50%;z-index: -1;}#sk-container-id-9 div.sk-parallel-item {display: flex;flex-direction: column;z-index: 1;position: relative;background-color: white;}#sk-container-id-9 div.sk-parallel-item:first-child::after {align-self: flex-end;width: 50%;}#sk-container-id-9 div.sk-parallel-item:last-child::after {align-self: flex-start;width: 50%;}#sk-container-id-9 div.sk-parallel-item:only-child::after {width: 0;}#sk-container-id-9 div.sk-dashed-wrapped {border: 1px dashed gray;margin: 0 0.4em 0.5em 0.4em;box-sizing: border-box;padding-bottom: 0.4em;background-color: white;}#sk-container-id-9 div.sk-label label {font-family: monospace;font-weight: bold;display: inline-block;line-height: 1.2em;}#sk-container-id-9 div.sk-label-container {text-align: center;}#sk-container-id-9 div.sk-container {/* jupyter's `normalize.less` sets `[hidden] { display: none; }` but bootstrap.min.css set `[hidden] { display: none !important; }` so we also need the `!important` here to be able to override the default hidden behavior on the sphinx rendered scikit-learn.org. See: https://github.com/scikit-learn/scikit-learn/issues/21755 */display: inline-block !important;position: relative;}#sk-container-id-9 div.sk-text-repr-fallback {display: none;}</style><div id=\"sk-container-id-9\" class=\"sk-top-container\"><div class=\"sk-text-repr-fallback\"><pre>LinearRegression()</pre><b>In a Jupyter environment, please rerun this cell to show the HTML representation or trust the notebook. <br />On GitHub, the HTML representation is unable to render, please try loading this page with nbviewer.org.</b></div><div class=\"sk-container\" hidden><div class=\"sk-item\"><div class=\"sk-estimator sk-toggleable\"><input class=\"sk-toggleable__control sk-hidden--visually\" id=\"sk-estimator-id-9\" type=\"checkbox\" checked><label for=\"sk-estimator-id-9\" class=\"sk-toggleable__label sk-toggleable__label-arrow\">LinearRegression</label><div class=\"sk-toggleable__content\"><pre>LinearRegression()</pre></div></div></div></div></div>"
            ]
          },
          "metadata": {},
          "execution_count": 178
        }
      ]
    },
    {
      "cell_type": "code",
      "source": [
        "lassoModel.fit(X_train, y_train)"
      ],
      "metadata": {
        "colab": {
          "base_uri": "https://localhost:8080/",
          "height": 75
        },
        "id": "bzN_4DEn7DEu",
        "outputId": "c479a4eb-e298-4abb-8275-c323c9888386"
      },
      "execution_count": null,
      "outputs": [
        {
          "output_type": "execute_result",
          "data": {
            "text/plain": [
              "Lasso()"
            ],
            "text/html": [
              "<style>#sk-container-id-10 {color: black;background-color: white;}#sk-container-id-10 pre{padding: 0;}#sk-container-id-10 div.sk-toggleable {background-color: white;}#sk-container-id-10 label.sk-toggleable__label {cursor: pointer;display: block;width: 100%;margin-bottom: 0;padding: 0.3em;box-sizing: border-box;text-align: center;}#sk-container-id-10 label.sk-toggleable__label-arrow:before {content: \"▸\";float: left;margin-right: 0.25em;color: #696969;}#sk-container-id-10 label.sk-toggleable__label-arrow:hover:before {color: black;}#sk-container-id-10 div.sk-estimator:hover label.sk-toggleable__label-arrow:before {color: black;}#sk-container-id-10 div.sk-toggleable__content {max-height: 0;max-width: 0;overflow: hidden;text-align: left;background-color: #f0f8ff;}#sk-container-id-10 div.sk-toggleable__content pre {margin: 0.2em;color: black;border-radius: 0.25em;background-color: #f0f8ff;}#sk-container-id-10 input.sk-toggleable__control:checked~div.sk-toggleable__content {max-height: 200px;max-width: 100%;overflow: auto;}#sk-container-id-10 input.sk-toggleable__control:checked~label.sk-toggleable__label-arrow:before {content: \"▾\";}#sk-container-id-10 div.sk-estimator input.sk-toggleable__control:checked~label.sk-toggleable__label {background-color: #d4ebff;}#sk-container-id-10 div.sk-label input.sk-toggleable__control:checked~label.sk-toggleable__label {background-color: #d4ebff;}#sk-container-id-10 input.sk-hidden--visually {border: 0;clip: rect(1px 1px 1px 1px);clip: rect(1px, 1px, 1px, 1px);height: 1px;margin: -1px;overflow: hidden;padding: 0;position: absolute;width: 1px;}#sk-container-id-10 div.sk-estimator {font-family: monospace;background-color: #f0f8ff;border: 1px dotted black;border-radius: 0.25em;box-sizing: border-box;margin-bottom: 0.5em;}#sk-container-id-10 div.sk-estimator:hover {background-color: #d4ebff;}#sk-container-id-10 div.sk-parallel-item::after {content: \"\";width: 100%;border-bottom: 1px solid gray;flex-grow: 1;}#sk-container-id-10 div.sk-label:hover label.sk-toggleable__label {background-color: #d4ebff;}#sk-container-id-10 div.sk-serial::before {content: \"\";position: absolute;border-left: 1px solid gray;box-sizing: border-box;top: 0;bottom: 0;left: 50%;z-index: 0;}#sk-container-id-10 div.sk-serial {display: flex;flex-direction: column;align-items: center;background-color: white;padding-right: 0.2em;padding-left: 0.2em;position: relative;}#sk-container-id-10 div.sk-item {position: relative;z-index: 1;}#sk-container-id-10 div.sk-parallel {display: flex;align-items: stretch;justify-content: center;background-color: white;position: relative;}#sk-container-id-10 div.sk-item::before, #sk-container-id-10 div.sk-parallel-item::before {content: \"\";position: absolute;border-left: 1px solid gray;box-sizing: border-box;top: 0;bottom: 0;left: 50%;z-index: -1;}#sk-container-id-10 div.sk-parallel-item {display: flex;flex-direction: column;z-index: 1;position: relative;background-color: white;}#sk-container-id-10 div.sk-parallel-item:first-child::after {align-self: flex-end;width: 50%;}#sk-container-id-10 div.sk-parallel-item:last-child::after {align-self: flex-start;width: 50%;}#sk-container-id-10 div.sk-parallel-item:only-child::after {width: 0;}#sk-container-id-10 div.sk-dashed-wrapped {border: 1px dashed gray;margin: 0 0.4em 0.5em 0.4em;box-sizing: border-box;padding-bottom: 0.4em;background-color: white;}#sk-container-id-10 div.sk-label label {font-family: monospace;font-weight: bold;display: inline-block;line-height: 1.2em;}#sk-container-id-10 div.sk-label-container {text-align: center;}#sk-container-id-10 div.sk-container {/* jupyter's `normalize.less` sets `[hidden] { display: none; }` but bootstrap.min.css set `[hidden] { display: none !important; }` so we also need the `!important` here to be able to override the default hidden behavior on the sphinx rendered scikit-learn.org. See: https://github.com/scikit-learn/scikit-learn/issues/21755 */display: inline-block !important;position: relative;}#sk-container-id-10 div.sk-text-repr-fallback {display: none;}</style><div id=\"sk-container-id-10\" class=\"sk-top-container\"><div class=\"sk-text-repr-fallback\"><pre>Lasso()</pre><b>In a Jupyter environment, please rerun this cell to show the HTML representation or trust the notebook. <br />On GitHub, the HTML representation is unable to render, please try loading this page with nbviewer.org.</b></div><div class=\"sk-container\" hidden><div class=\"sk-item\"><div class=\"sk-estimator sk-toggleable\"><input class=\"sk-toggleable__control sk-hidden--visually\" id=\"sk-estimator-id-10\" type=\"checkbox\" checked><label for=\"sk-estimator-id-10\" class=\"sk-toggleable__label sk-toggleable__label-arrow\">Lasso</label><div class=\"sk-toggleable__content\"><pre>Lasso()</pre></div></div></div></div></div>"
            ]
          },
          "metadata": {},
          "execution_count": 179
        }
      ]
    },
    {
      "cell_type": "code",
      "source": [
        "lrPred = lrModel.predict(X_test)\n",
        "lrPred"
      ],
      "metadata": {
        "colab": {
          "base_uri": "https://localhost:8080/"
        },
        "id": "TgE-Km3V7Gnr",
        "outputId": "03eefab2-5a0b-40e8-da1f-2bcb7586dccc"
      },
      "execution_count": null,
      "outputs": [
        {
          "output_type": "execute_result",
          "data": {
            "text/plain": [
              "array([ 67.8125, 146.8125, 195.5   , ..., 146.8125, 146.8125, 146.8125])"
            ]
          },
          "metadata": {},
          "execution_count": 180
        }
      ]
    },
    {
      "cell_type": "markdown",
      "source": [
        "<h1> Model Prediction"
      ],
      "metadata": {
        "id": "OmO-pR0n6x45"
      }
    },
    {
      "cell_type": "code",
      "source": [
        "lr_pred = lrModel.predict(X_test)\n",
        "lr_pred"
      ],
      "metadata": {
        "colab": {
          "base_uri": "https://localhost:8080/"
        },
        "id": "TwO7vn1qTm1b",
        "outputId": "a03d4775-c6a4-41e2-fea2-d60247f64368"
      },
      "execution_count": null,
      "outputs": [
        {
          "output_type": "execute_result",
          "data": {
            "text/plain": [
              "array([ 67.8125, 146.8125, 195.5   , ..., 146.8125, 146.8125, 146.8125])"
            ]
          },
          "metadata": {},
          "execution_count": 184
        }
      ]
    },
    {
      "cell_type": "code",
      "source": [
        "lasso_pred = lassoModel.predict(X_test)\n",
        "lasso_pred"
      ],
      "metadata": {
        "colab": {
          "base_uri": "https://localhost:8080/"
        },
        "id": "kTg5eWz78g-b",
        "outputId": "0d49ce52-fd64-4373-e282-a87debaac55f"
      },
      "execution_count": null,
      "outputs": [
        {
          "output_type": "execute_result",
          "data": {
            "text/plain": [
              "array([ 70.15894405, 146.55887826, 197.51153235, ..., 146.55887826,\n",
              "       146.55887826, 146.55887826])"
            ]
          },
          "metadata": {},
          "execution_count": 186
        }
      ]
    },
    {
      "cell_type": "markdown",
      "source": [
        "<h1> Model Evaluation\n",
        "</h1>\n",
        "These are the results!"
      ],
      "metadata": {
        "id": "6vBlccbFO_iB"
      }
    },
    {
      "cell_type": "code",
      "source": [
        "print(\"Coefficient for Linear Regression:\", lrModel.coef_)\n",
        "lrMSE = mean_squared_error(y_test, lr_pred)\n",
        "print(\"MSE for Linear Regression:\", lrMSE)\n",
        "lrRMSE = mean_squared_error(y_test, lr_pred, squared=False)\n",
        "print(\"RMSE for Linear Regression:\", lrRMSE)\n",
        "lrR2 = r2_score(y_test, lr_pred)\n",
        "print(\"R2 for Linear Regression:\", lrR2)"
      ],
      "metadata": {
        "colab": {
          "base_uri": "https://localhost:8080/"
        },
        "id": "v4z3hx4AOB40",
        "outputId": "7e7783b4-4770-4419-f372-c387bd78f0e0"
      },
      "execution_count": null,
      "outputs": [
        {
          "output_type": "stream",
          "name": "stdout",
          "text": [
            "Coefficient for Linear Regression: [4.09110299e+01 3.14772340e+01 8.59644968e+00 5.34474366e+14\n",
            " 5.34474366e+14 5.34474366e+14 5.34474366e+14]\n",
            "MSE for Linear Regression: 11649.380109291887\n",
            "RMSE for Linear Regression: 107.93229409816085\n",
            "R2 for Linear Regression: 0.29339887237824325\n"
          ]
        }
      ]
    },
    {
      "cell_type": "code",
      "source": [
        "print(\"Coefficient for Lasso:\", lassoModel.coef_)\n",
        "lassoMSE = mean_squared_error(y_test, lasso_pred)\n",
        "print(\"MSE for Lasso:\", lassoMSE)\n",
        "lassoRMSE = mean_squared_error(y_test, lr_pred, squared=False)\n",
        "print(\"RMSE for Lasso:\", lassoRMSE)\n",
        "lassoR2 = r2_score(y_test, lasso_pred)\n",
        "print(\"R2 for Lasso:\", lassoR2)"
      ],
      "metadata": {
        "colab": {
          "base_uri": "https://localhost:8080/"
        },
        "id": "bukFAuzFQSpX",
        "outputId": "562fd314-fae8-46fe-8ff4-c88178f6e89a"
      },
      "execution_count": null,
      "outputs": [
        {
          "output_type": "stream",
          "name": "stdout",
          "text": [
            "Coefficient for Lasso: [37.49058651 32.29193608  9.33035901 44.10799813  0.         -0.\n",
            " -0.        ]\n",
            "MSE for Lasso: 11627.881494767782\n",
            "RMSE for Lasso: 107.93229409816085\n",
            "R2 for Lasso: 0.2947028855637108\n"
          ]
        }
      ]
    },
    {
      "cell_type": "markdown",
      "source": [
        "<h2> Von Derwin Caibigan - BM1 - M2FA2 </h2>\n",
        "\n",
        "<h3>References</h3>\n",
        "https://www.bing.com/ck/a?!&&p=94f58967737a5554JmltdHM9MTY4ODQyODgwMCZpZ3VpZD0wYzlkNjM4Yi0zNDQ1LTZiN2ItMWJiNC03MGNmMzVkODZhNTcmaW5zaWQ9NTE3OQ&ptn=3&hsh=3&fclid=0c9d638b-3445-6b7b-1bb4-70cf35d86a57&psq=predictions+data+science+python+listings&u=a1aHR0cHM6Ly90b3dhcmRzZGF0YXNjaWVuY2UuY29tL3N0ZXAtYnktc3RlcC1ndWlkZS1idWlsZGluZy1hLXByZWRpY3Rpb24tbW9kZWwtaW4tcHl0aG9uLWFjNDQxZThiOWU4Yg&ntb=1\n",
        "https://scikit-learn.org/stable/modules/linear_model.html#lasso\n",
        "https://scikit-learn.org/stable/auto_examples/linear_model/plot_ols.html#linear-regression-example\n",
        "https://scikit-learn.org/stable/modules/generated/sklearn.metrics.r2_score.html\n",
        "https://scikit-learn.org/stable/modules/generated/sklearn.metrics.mean_squared_error.html\n",
        "https://www.bing.com/ck/a?!&&p=76bb391b0b37103bJmltdHM9MTY4ODQyODgwMCZpZ3VpZD0wYzlkNjM4Yi0zNDQ1LTZiN2ItMWJiNC03MGNmMzVkODZhNTcmaW5zaWQ9NTIwMg&ptn=3&hsh=3&fclid=0c9d638b-3445-6b7b-1bb4-70cf35d86a57&psq=predictions+data+science+python+listings&u=a1aHR0cHM6Ly9tYWNoaW5lbGVhcm5pbmdtYXN0ZXJ5LmNvbS9tYWtlLXByZWRpY3Rpb25zLXNjaWtpdC1sZWFybi8&ntb=1\n",
        "https://www.bounteous.com/insights/2020/09/15/forecasting-time-series-model-using-python-part-one"
      ],
      "metadata": {
        "id": "101vd6UgOByK"
      }
    },
    {
      "cell_type": "markdown",
      "source": [
        "<h1> Visualization"
      ],
      "metadata": {
        "id": "oU1vUm5kCchF"
      }
    },
    {
      "cell_type": "code",
      "source": [
        "import matplotlib.pyplot as plt\n",
        "plt.scatter(X_train['beds'], y_train, color='b', label='Actual')\n",
        "plt.scatter(X_test['beds'], lr_pred, color='r', label='Predicted')\n",
        "plt.xlabel('Beds')\n",
        "plt.ylabel('Price')\n",
        "plt.legend()\n",
        "plt.title('Actual vs. Predicted Price')\n",
        "plt.show()"
      ],
      "metadata": {
        "colab": {
          "base_uri": "https://localhost:8080/",
          "height": 516
        },
        "id": "X0Rsa5P_BIpF",
        "outputId": "82f5c928-3602-4bc3-a0ab-6038497a1055"
      },
      "execution_count": null,
      "outputs": [
        {
          "output_type": "display_data",
          "data": {
            "text/plain": [
              "<Figure size 20000x500 with 1 Axes>"
            ],
            "image/png": "[encoded data removed]"
          },
          "metadata": {}
        }
      ]
    },
    {
      "cell_type": "code",
      "source": [],
      "metadata": {
        "id": "ZvgQgj1tCzPg"
      },
      "execution_count": null,
      "outputs": []
    }
  ]
}